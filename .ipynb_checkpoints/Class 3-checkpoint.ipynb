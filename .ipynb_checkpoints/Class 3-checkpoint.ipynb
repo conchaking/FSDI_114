{
 "cells": [
  {
   "cell_type": "code",
   "execution_count": 1,
   "id": "28229446-3058-47e4-8906-2f91190b8d8d",
   "metadata": {},
   "outputs": [],
   "source": [
    "# Simplified implementation for Queue (using built-in data structures) \n",
    "\n",
    "class Queue:\n",
    "    def __init__(self):\n",
    "        self.items = []\n",
    "\n",
    "    def enqueue(self, value):\n",
    "        self.items.insert(0,value)\n",
    "\n",
    "    def dequeue(self):\n",
    "        return self.items.pop()\n",
    "\n",
    "    # nice to have methods: \n",
    "    def peek(self):\n",
    "        return self.items[len(self.items)-1]\n",
    "\n",
    "    def size(self):\n",
    "        return len(self.items)\n",
    "\n",
    "    def is_empty(self):\n",
    "        return self.items == []\n",
    "\n"
   ]
  },
  {
   "cell_type": "code",
   "execution_count": 2,
   "id": "b2887132-d9a6-456a-b73c-9a87425a940e",
   "metadata": {},
   "outputs": [
    {
     "name": "stdout",
     "output_type": "stream",
     "text": [
      "1\n",
      "2\n",
      "3\n",
      "4\n",
      "5\n",
      "6\n",
      "7\n",
      "8\n",
      "9\n",
      "10\n"
     ]
    }
   ],
   "source": [
    "queue = Queue()\n",
    "\n",
    "for number in range(1, 11):\n",
    "    queue.enqueue(number)\n",
    "\n",
    "while not queue.is_empty():\n",
    "    print(queue.dequeue())\n",
    "\n",
    "\n"
   ]
  },
  {
   "cell_type": "code",
   "execution_count": 3,
   "id": "5b3824e9-faeb-4172-a31b-e6a125cabb82",
   "metadata": {},
   "outputs": [],
   "source": [
    "# From scratch implementation of Queue\n",
    "\n",
    "\n",
    "class QueueII: \n",
    "    class __Node(self, data):\n",
    "        def __init__(self, data):\n",
    "            self.data = data\n",
    "            self.next = next\n",
    "\n",
    "    def __init__(self):\n",
    "        self.back = None\n",
    "        self.front = None\n",
    "\n",
    "    def enqueue(self, value):\n",
    "        new_node = self.__Node(value)\n",
    "        if not self.back         # this is the same as saying \"if self.back is not None\"\n",
    "           # Here's what happens when the queue is empty:\n",
    "        self.back = new_node\n",
    "        self.front = new_node\n",
    "    else:\n",
    "        current_back = self.back\n",
    "        self.back = new_node\n",
    "        current_back.prev = new_node\n",
    "\n",
    "    def dequeue(self):\n",
    "        if self.front:\n",
    "            data = self.front.data\n",
    "            self.front = self.front.prev\n",
    "            if not self.front\n",
    "                self.back = None\n",
    "            return data\n",
    "        raise IndexError(\"Queue is empty\")\n",
    "        \n",
    "        # if the queue is not empty, remove and return the \"frontmost\" element (it's data value)\n",
    "        # if the queue is empty, return an error or an exception\n",
    "        \n"
   ]
  },
  {
   "cell_type": "code",
   "execution_count": null,
   "id": "194d6603-3d00-4317-a8c7-587ad53c96cd",
   "metadata": {},
   "outputs": [],
   "source": []
  }
 ],
 "metadata": {
  "kernelspec": {
   "display_name": "Python 3 (ipykernel)",
   "language": "python",
   "name": "python3"
  },
  "language_info": {
   "codemirror_mode": {
    "name": "ipython",
    "version": 3
   },
   "file_extension": ".py",
   "mimetype": "text/x-python",
   "name": "python",
   "nbconvert_exporter": "python",
   "pygments_lexer": "ipython3",
   "version": "3.11.4"
  }
 },
 "nbformat": 4,
 "nbformat_minor": 5
}
