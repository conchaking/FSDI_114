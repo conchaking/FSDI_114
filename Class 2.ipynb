{
 "cells": [
  {
   "cell_type": "code",
   "execution_count": 1,
   "id": "c201268f-ec79-4cc3-9281-2b217d38afd8",
   "metadata": {},
   "outputs": [
    {
     "data": {
      "text/plain": [
       "11"
      ]
     },
     "execution_count": 1,
     "metadata": {},
     "output_type": "execute_result"
    }
   ],
   "source": [
    "def myfunction(n):\n",
    "    return n+1\n",
    "\n",
    "a = 5 + myfunction(5)\n",
    "\n",
    "a"
   ]
  },
  {
   "cell_type": "code",
   "execution_count": 8,
   "id": "b8b28bb8-e065-404a-904c-242d2cc5ecc3",
   "metadata": {},
   "outputs": [],
   "source": [
    "# Simplified implementation of Stack relying on build-in data structures\n",
    "\n",
    "class Stack:\n",
    "    def __init__(self):\n",
    "        self.items = []\n",
    "\n",
    "    def push(self, value):\n",
    "        self.items.append(value)\n",
    "    \n",
    "    def pop(self):\n",
    "        return self.items.pop()\n",
    "\n",
    "    #nice to have methods:\n",
    "    def peek(self):\n",
    "        return self.items[len(self.items-1)]\n",
    "\n",
    "    def size(self):\n",
    "        return len(self.items)\n",
    "\n",
    "    def is_empty(self):\n",
    "        return self.items ==[]"
   ]
  },
  {
   "cell_type": "code",
   "execution_count": 9,
   "id": "ada26fe5-830b-41bd-8a2b-08bf9a042739",
   "metadata": {},
   "outputs": [
    {
     "data": {
      "text/plain": [
       "'madA'"
      ]
     },
     "execution_count": 9,
     "metadata": {},
     "output_type": "execute_result"
    }
   ],
   "source": [
    "\n",
    "def invert_str(mystring):\n",
    "    out = \"\"\n",
    "    stack = Stack()\n",
    "    for char in mystring:\n",
    "        stack.push(char)\n",
    "    while not stack.is_empty():\n",
    "        out += stack.pop()       # this is shorthand for out = out + stack.pop()\n",
    "    return out\n",
    "\n",
    "invert_str(\"Adam\")"
   ]
  },
  {
   "cell_type": "code",
   "execution_count": 11,
   "id": "0a74d222-5937-4d63-838d-6cdc40a78b0c",
   "metadata": {},
   "outputs": [
    {
     "name": "stdout",
     "output_type": "stream",
     "text": [
      "4534152472\n",
      "4534152440\n"
     ]
    }
   ],
   "source": [
    "# In python native or primary data types all pass by value.\n",
    "# Primary data types in python: int, float, bool and allegedly imaginary numbers. \n",
    "\n",
    "# Demo\n",
    "\n",
    "x = 5\n",
    "y = x\n",
    "\n",
    "x += 1\n",
    "\n",
    "print(id(x))\n",
    "print(id(y))"
   ]
  },
  {
   "cell_type": "code",
   "execution_count": 13,
   "id": "e4b4aef7-e87b-46c4-be1d-f4aa2529e603",
   "metadata": {},
   "outputs": [
    {
     "name": "stdout",
     "output_type": "stream",
     "text": [
      "4580621824\n",
      "4580621824\n"
     ]
    }
   ],
   "source": [
    "# In Python data structures that are not considered \"primary data types\" all pass by reference.\n",
    "\n",
    "x = [1, 2, 3]\n",
    "\n",
    "y = x\n",
    "\n",
    "x.append(4)\n",
    "\n",
    "print(id(x))\n",
    "print(id(y))"
   ]
  },
  {
   "cell_type": "code",
   "execution_count": null,
   "id": "2e34092c-92a9-4d04-9edb-4acacc2b359a",
   "metadata": {},
   "outputs": [],
   "source": [
    "# From scratch implementation of stack\n",
    "\n",
    "class StackII:\n",
    "    class __Node:\n",
    "        def__init__(self, data):\n",
    "        self.data = data\n",
    "        self.below = None\n",
    "        \n",
    "    def __init__(self):\n",
    "        self.top = None\n",
    "\n",
    "    def push(self, value):\n",
    "        new_node = self.__Node(value)\n",
    "        if not self.top:\n",
    "            self.top = new_node\n",
    "        else:\n",
    "            current = self.top\n",
    "            self.top = new_node\n",
    "            new_node.below = current\n",
    "        \n",
    "    def pop(self):\n",
    "        if self.top:\n",
    "            datum = self.top.data\n",
    "            self.top = self.top.below\n",
    "            return datum\n",
    "        raise IndexError(\"Stack is empty\")\n",
    "                    \n",
    "    # Nice to have methods:\n",
    "    # TBD\n",
    "    # Returns but does not remove the topmost data element (value, not node)\n",
    "    def peek(self):\n",
    "        if not self.top:\n",
    "            raise IndexError(\"Stack is empty\")\n",
    "        else:\n",
    "            return.self.top.data\n",
    "            \n",
    "\n",
    "    def size(self):\n",
    "        total = 0\n",
    "        if self.top\n",
    "            current = self.top\n",
    "            while current:\n",
    "                current = current.below\n",
    "                total += 1\n",
    "        return total\n",
    "\n",
    "    # TBD\n",
    "    # Returns True when the stack is empty, False otherwise\n",
    "    def is_empty(self):\n",
    "        return self.top == None\n",
    "    "
   ]
  }
 ],
 "metadata": {
  "kernelspec": {
   "display_name": "Python 3 (ipykernel)",
   "language": "python",
   "name": "python3"
  },
  "language_info": {
   "codemirror_mode": {
    "name": "ipython",
    "version": 3
   },
   "file_extension": ".py",
   "mimetype": "text/x-python",
   "name": "python",
   "nbconvert_exporter": "python",
   "pygments_lexer": "ipython3",
   "version": "3.11.4"
  }
 },
 "nbformat": 4,
 "nbformat_minor": 5
}
